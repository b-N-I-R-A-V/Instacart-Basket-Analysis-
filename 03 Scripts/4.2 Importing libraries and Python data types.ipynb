{
 "cells": [
  {
   "cell_type": "markdown",
   "id": "a4f10caa-5a03-48c4-a7a3-7c538ff21a56",
   "metadata": {},
   "source": [
    "# Table of Contents\n",
    "1. Importing Libraries\n",
    "2. Data Types"
   ]
  },
  {
   "cell_type": "markdown",
   "id": "70dbf23a-ad68-4a2e-9548-33d190ce3f40",
   "metadata": {},
   "source": [
    "## 01. Importing libraries"
   ]
  },
  {
   "cell_type": "code",
   "execution_count": 2,
   "id": "5fb59aee-f9b3-4088-8166-d442aa48b5c9",
   "metadata": {},
   "outputs": [],
   "source": [
    "# Import libraries\n",
    "import pandas as pd\n",
    "import numpy as np\n",
    "import os\n"
   ]
  },
  {
   "cell_type": "markdown",
   "id": "35b7a591-a00d-4560-9300-b4848addd1f6",
   "metadata": {
    "jp-MarkdownHeadingCollapsed": true
   },
   "source": [
    "## 02. Data Types"
   ]
  },
  {
   "cell_type": "code",
   "execution_count": 22,
   "id": "11560784-eadd-471a-a3fc-528921abed9b",
   "metadata": {},
   "outputs": [],
   "source": [
    "x = 10; y = 90"
   ]
  },
  {
   "cell_type": "code",
   "execution_count": 23,
   "id": "8d2db727-9c80-4de2-95c6-fc188e2e9677",
   "metadata": {},
   "outputs": [
    {
     "name": "stdout",
     "output_type": "stream",
     "text": [
      "100\n"
     ]
    }
   ],
   "source": [
    "print(x+y)"
   ]
  },
  {
   "cell_type": "code",
   "execution_count": 26,
   "id": "773982a6-2052-420a-965d-0024d239214e",
   "metadata": {},
   "outputs": [],
   "source": [
    "x = 143; y= 43"
   ]
  },
  {
   "cell_type": "code",
   "execution_count": 34,
   "id": "516197fd-4d5e-4b10-ba8e-f8bc9215ef34",
   "metadata": {},
   "outputs": [
    {
     "name": "stdout",
     "output_type": "stream",
     "text": [
      "-28\n"
     ]
    }
   ],
   "source": [
    "print(x-y)"
   ]
  },
  {
   "cell_type": "code",
   "execution_count": 31,
   "id": "61dd24c3-76e8-4fc0-af8f-27c8dabedb7d",
   "metadata": {},
   "outputs": [],
   "source": [
    "x = 14; y=42; z=44"
   ]
  },
  {
   "cell_type": "code",
   "execution_count": 32,
   "id": "652a6949-242b-4d39-be87-009b8c4946cf",
   "metadata": {},
   "outputs": [
    {
     "name": "stdout",
     "output_type": "stream",
     "text": [
      "100\n"
     ]
    }
   ],
   "source": [
    "print(x+y+z)"
   ]
  },
  {
   "cell_type": "code",
   "execution_count": 36,
   "id": "1a50694b-fad2-4eb8-92d7-84874056b69c",
   "metadata": {},
   "outputs": [],
   "source": [
    "a = 56.71; b = 13.23"
   ]
  },
  {
   "cell_type": "code",
   "execution_count": 37,
   "id": "75cf377b-3142-4fb3-bc9d-4ef5fd9375cc",
   "metadata": {},
   "outputs": [
    {
     "name": "stdout",
     "output_type": "stream",
     "text": [
      "4.286470143613001\n"
     ]
    }
   ],
   "source": [
    "print(a/b)"
   ]
  },
  {
   "cell_type": "code",
   "execution_count": 38,
   "id": "af45e768-9327-495e-a317-8bbc5dfe14de",
   "metadata": {},
   "outputs": [],
   "source": [
    "x = 'Book'; y = 'shelf'"
   ]
  },
  {
   "cell_type": "code",
   "execution_count": 39,
   "id": "70e70f5f-f77e-4f9d-b55f-f58d4383fd21",
   "metadata": {},
   "outputs": [
    {
     "name": "stdout",
     "output_type": "stream",
     "text": [
      "Bookshelf\n"
     ]
    }
   ],
   "source": [
    "print(x+y)"
   ]
  },
  {
   "cell_type": "code",
   "execution_count": 42,
   "id": "8d0a07dc-a89e-4bbe-8844-095896d62283",
   "metadata": {},
   "outputs": [],
   "source": [
    "a = 'Things will take time. '; b = 'Keep giving your best.'"
   ]
  },
  {
   "cell_type": "code",
   "execution_count": 43,
   "id": "32643eec-cc0b-425c-9755-bd74962a9a0e",
   "metadata": {},
   "outputs": [
    {
     "name": "stdout",
     "output_type": "stream",
     "text": [
      "Things will take time. Keep giving your best.\n"
     ]
    }
   ],
   "source": [
    "print(a+b)"
   ]
  },
  {
   "cell_type": "code",
   "execution_count": 45,
   "id": "48786984-85c4-4838-815c-8587649037d7",
   "metadata": {},
   "outputs": [
    {
     "data": {
      "text/plain": [
       "'Keep calm. Keep calm. Keep calm. Keep calm. Keep calm. Keep calm. Keep calm. Keep calm. Keep calm. Keep calm. Keep calm. Keep calm. Keep calm. Keep calm. Keep calm. Keep calm. Keep calm. Keep calm. Keep calm. Keep calm. Keep calm. Keep calm. Keep calm. Keep calm. Keep calm. Keep calm. Keep calm. Keep calm. Keep calm. Keep calm. Keep calm. Keep calm. Keep calm. Keep calm. Keep calm. Keep calm. Keep calm. Keep calm. Keep calm. Keep calm. Keep calm. Keep calm. Keep calm. Keep calm. Keep calm. Keep calm. Keep calm. Keep calm. Keep calm. Keep calm. Keep calm. Keep calm. Keep calm. Keep calm. Keep calm. Keep calm. Keep calm. Keep calm. Keep calm. Keep calm. Keep calm. Keep calm. Keep calm. Keep calm. Keep calm. Keep calm. Keep calm. Keep calm. Keep calm. Keep calm. Keep calm. Keep calm. Keep calm. Keep calm. Keep calm. Keep calm. Keep calm. Keep calm. Keep calm. Keep calm. Keep calm. Keep calm. Keep calm. Keep calm. Keep calm. Keep calm. Keep calm. Keep calm. Keep calm. Keep calm. Keep calm. Keep calm. Keep calm. Keep calm. Keep calm. Keep calm. Keep calm. Keep calm. Keep calm. Keep calm. '"
      ]
     },
     "execution_count": 45,
     "metadata": {},
     "output_type": "execute_result"
    }
   ],
   "source": [
    "'Keep calm. '*100"
   ]
  },
  {
   "cell_type": "code",
   "execution_count": null,
   "id": "77a3eaf9-3fe7-49ec-a523-159257ee1672",
   "metadata": {},
   "outputs": [],
   "source": []
  }
 ],
 "metadata": {
  "kernelspec": {
   "display_name": "Python 3 (ipykernel)",
   "language": "python",
   "name": "python3"
  },
  "language_info": {
   "codemirror_mode": {
    "name": "ipython",
    "version": 3
   },
   "file_extension": ".py",
   "mimetype": "text/x-python",
   "name": "python",
   "nbconvert_exporter": "python",
   "pygments_lexer": "ipython3",
   "version": "3.11.7"
  }
 },
 "nbformat": 4,
 "nbformat_minor": 5
}
